{
 "cells": [
  {
   "cell_type": "markdown",
   "metadata": {},
   "source": [
    "# EECS16A Discussion 1C"
   ]
  },
  {
   "cell_type": "markdown",
   "metadata": {},
   "source": [
    "## Social Media"
   ]
  },
  {
   "cell_type": "markdown",
   "metadata": {},
   "source": [
    "(a) What is the corresponding transition matrix?"
   ]
  },
  {
   "cell_type": "code",
   "execution_count": 1,
   "metadata": {
    "collapsed": true
   },
   "outputs": [],
   "source": [
    "import numpy as np\n",
    "import matplotlib.pyplot as plt\n",
    "\n",
    "T = np.array([[0.4, 0.2, 0.0, 0.0],\n",
    "              [0.3, 0.6, 0.0, 0.0],\n",
    "              [0.0, 0.0, 0.6, 0.0],\n",
    "              [0.3, 0.2, 0.4, 1.0]])"
   ]
  },
  {
   "cell_type": "markdown",
   "metadata": {},
   "source": [
    "(b) There are 150 of you in the class. Suppose on a given Friday evening (the day when HW is due), there are 70 EE16A students on Facebook, 45 on YouTube, 20 on Instagram, and 15 actually doing work. In the next timestep, how many people will be doing each activity? In other words, after you apply the matrix once to reach the next timestep, what is the state vector?"
   ]
  },
  {
   "cell_type": "code",
   "execution_count": 2,
   "metadata": {
    "collapsed": false
   },
   "outputs": [
    {
     "name": "stdout",
     "output_type": "stream",
     "text": [
      "[ 37.  48.  12.  53.]\n"
     ]
    }
   ],
   "source": [
    "vi = np.array([70,45,20,15])\n",
    "vo = np.dot(T,vi)\n",
    "\n",
    "print(vo)"
   ]
  },
  {
   "cell_type": "markdown",
   "metadata": {},
   "source": [
    "(d) You want to predict how many students will be on each website n timesteps in the future. How would you formulate that mathematically? Without working it out, can you predict roughly how many stu- dents will be in each state 1000 timesteps in the future?"
   ]
  },
  {
   "cell_type": "code",
   "execution_count": null,
   "metadata": {
    "collapsed": true
   },
   "outputs": [],
   "source": [
    "T1000 = np.linalg.matrix_power(T,1000)\n",
    "\n",
    "print(T1000)"
   ]
  },
  {
   "cell_type": "code",
   "execution_count": null,
   "metadata": {
    "collapsed": true
   },
   "outputs": [],
   "source": [
    "# Compute the state step-by-step\n",
    "\n",
    "steps = np.arange(0,101,1)\n",
    "vprogress = np.zeros((len(steps),len(vi)))\n",
    "\n",
    "for i in range(len(steps)):\n",
    "    vprogress[i,:] = np.dot(np.linalg.matrix_power(T,i),vi)\n",
    "    \n",
    "# Plot the progress\n",
    "\n",
    "fig = plt.figure(figsize=(10,5))\n",
    "ax = fig.add_subplot(111, xlim = [steps[0], steps[-1]], ylim = [0, 150])\n",
    "\n",
    "for i in range(len(vi)):\n",
    "    ax.plot(steps,vprogress[:,i], linewidth=2)\n",
    "    \n",
    "for axis in ['top','bottom','left','right']:\n",
    "  ax.spines[axis].set_linewidth(2)\n",
    "\n",
    "ax.set_xlabel('Steps', fontsize=20)\n",
    "ax.set_ylabel('Number of Students', fontsize=20)    \n",
    "ax.tick_params(labelsize=20,width=2,direction='in')   \n",
    "ax.legend(['Facebook','YouTube','Instagram','Work'],frameon=False, fontsize=20)"
   ]
  },
  {
   "cell_type": "markdown",
   "metadata": {},
   "source": [
    "(e) Challenging Practice Problem: Suppose, instead of having ‘Work’ as an explicit state, we assume that any student not on Facebook/Youtube/Instagram is working. Work is like the “void,” and if a student is “leaked” from any of the other states, we assume s/he has gone to work and will never come back. How would you reformulate this problem? Redraw the figure and rewrite the appropriate transition matrix. What are the major differences between this problem and the previous one?"
   ]
  },
  {
   "cell_type": "code",
   "execution_count": null,
   "metadata": {
    "collapsed": true
   },
   "outputs": [],
   "source": [
    "A_leak = np.array([[0.4, 0.2, 0.0],\n",
    "                  [0.3, 0.6, 0.0],\n",
    "                  [0.0, 0.0, 0.6]])"
   ]
  },
  {
   "cell_type": "code",
   "execution_count": null,
   "metadata": {
    "collapsed": true
   },
   "outputs": [],
   "source": [
    "vi_leak = np.array([85,45,20])\n",
    "vprogress_leak = np.zeros((len(steps),len(vi_leak)))\n",
    "\n",
    "for i in range(len(steps)):\n",
    "    vprogress_leak[i,:] = np.dot(np.linalg.matrix_power(A_leak,i),vi_leak)\n",
    "    \n",
    "# Plot the progress\n",
    "\n",
    "fig = plt.figure(figsize=(10,5))\n",
    "ax = fig.add_subplot(111, xlim = [steps[0], steps[-1]], ylim = [0, 100])\n",
    "\n",
    "for i in range(len(vi_leak)):\n",
    "    ax.plot(steps,vprogress_leak[:,i], linewidth=2)\n",
    "    \n",
    "for axis in ['top','bottom','left','right']:\n",
    "  ax.spines[axis].set_linewidth(2)\n",
    "\n",
    "ax.set_xlabel('Steps', fontsize=20)\n",
    "ax.set_ylabel('Number of Students', fontsize=20)    \n",
    "ax.tick_params(labelsize=20,width=2,direction='in')   \n",
    "ax.legend(['Facebook','YouTube','Instagram'],frameon=False, fontsize=20)"
   ]
  },
  {
   "cell_type": "code",
   "execution_count": null,
   "metadata": {
    "collapsed": true
   },
   "outputs": [],
   "source": []
  }
 ],
 "metadata": {
  "kernelspec": {
   "display_name": "Python [py35]",
   "language": "python",
   "name": "Python [py35]"
  },
  "language_info": {
   "codemirror_mode": {
    "name": "ipython",
    "version": 3
   },
   "file_extension": ".py",
   "mimetype": "text/x-python",
   "name": "python",
   "nbconvert_exporter": "python",
   "pygments_lexer": "ipython3",
   "version": "3.5.2"
  }
 },
 "nbformat": 4,
 "nbformat_minor": 2
}

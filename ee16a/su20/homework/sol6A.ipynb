{
 "cells": [
  {
   "cell_type": "markdown",
   "metadata": {},
   "source": [
    "# EECS16A Homework 6A"
   ]
  },
  {
   "cell_type": "markdown",
   "metadata": {},
   "source": [
    "## Problem 1: Mechanical Linear Correlation"
   ]
  },
  {
   "cell_type": "markdown",
   "metadata": {},
   "source": [
    "### Part (b)"
   ]
  },
  {
   "cell_type": "code",
   "execution_count": null,
   "metadata": {},
   "outputs": [],
   "source": [
    "import numpy as np\n",
    "import matplotlib.pyplot as plt"
   ]
  },
  {
   "cell_type": "code",
   "execution_count": null,
   "metadata": {},
   "outputs": [],
   "source": [
    "s1 = [2, -2, 2, -2]\n",
    "s2 = [1, 2, 3, 4]\n",
    "\n",
    "# Use the function np.correlate with mode='full' for linear cross correlation.\n",
    "corr_s1_s2 = np.correlate(s1,s2,mode='full') \n",
    "#Since both the arrays start at 0, the last \"shift\" where the signals overlap is the length of the first array\n",
    "end_index = len(s1)\n",
    "#Similarly, the first \"shift\" where the signals overlap is the negative of the length of the second array, offset by one because of the zero index.\n",
    "st_index = -len(s2) + 1\n",
    "indices = np.arange(st_index, end_index)    \n",
    "print('Linear correlation of s1 and s2:',corr_s1_s2)\n",
    "plt.figure(figsize = (10, 10))\n",
    "plt.stem(indices, corr_s1_s2)\n",
    "plt.xlabel(\"Index of correlation\")\n",
    "plt.ylabel(\"Correlation value\")\n",
    "\n",
    "## Your code here\n",
    "corr_s2_s1 = np.correlate(s2,s1,mode='full')\n",
    "end_index = len(s2)\n",
    "st_index = -len(s1) + 1\n",
    "indices = np.arange(st_index, end_index)  \n",
    "print('Linear correlation of s2 and s1:',corr_s2_s1)\n",
    "plt.figure(figsize = (10, 10))\n",
    "plt.stem(indices, corr_s2_s1)\n",
    "plt.xlabel(\"Index of correlation\")\n",
    "plt.ylabel(\"Correlation value\")"
   ]
  },
  {
   "cell_type": "markdown",
   "metadata": {},
   "source": [
    "## Problem 2: Audio File Matching"
   ]
  },
  {
   "cell_type": "markdown",
   "metadata": {},
   "source": [
    "### Part (b)"
   ]
  },
  {
   "cell_type": "code",
   "execution_count": null,
   "metadata": {},
   "outputs": [],
   "source": [
    "## Your code here\n",
    "import numpy as np\n",
    "import matplotlib.pyplot as plt\n",
    "\n",
    "x = [-1, 1, 1, -1, 1, 1, -1, 1]\n",
    "y = [1, 1, -1, 0, 0, 0, 0, 0]\n",
    "corr_x_y = np.correlate(x,y,mode='full') \n",
    "end_index = len(x)\n",
    "st_index = -len(y) + 1\n",
    "indices = np.arange(st_index, end_index)  \n",
    "print('Linear correlation of x and y:',corr_x_y)\n",
    "plt.figure(figsize = (10, 10))\n",
    "plt.stem(indices, corr_x_y)\n",
    "plt.xlabel(\"Index of correlation\")\n",
    "plt.ylabel(\"Correlation value\")\n",
    "\n",
    "x = [-1, 1, 1, -1, 1, 1, -1, 1]\n",
    "y = [1, 1, 1, 0, 0, 0, 0, 0]\n",
    "\n",
    "corr_x_y = np.correlate(x,y,mode='full') \n",
    "end_index = len(x)\n",
    "st_index = -len(y) + 1\n",
    "indices = np.arange(st_index, end_index)  \n",
    "print('Linear correlation of x and y:',corr_x_y)\n",
    "plt.figure(figsize = (10, 10))\n",
    "plt.stem(indices, corr_x_y)\n",
    "plt.xlabel(\"Index of correlation\")\n",
    "plt.ylabel(\"Correlation value\")\n"
   ]
  },
  {
   "cell_type": "markdown",
   "metadata": {},
   "source": [
    "### Part (c)"
   ]
  },
  {
   "cell_type": "code",
   "execution_count": null,
   "metadata": {},
   "outputs": [],
   "source": [
    "## Your code here\n",
    "import numpy as np\n",
    "import matplotlib.pyplot as plt\n",
    "\n",
    "x = [1, 2, 3, 1, 2, 2, 3, 10]\n",
    "y = [1, 2, 3, 0, 0, 0, 0, 0]\n",
    "corr_x_y = np.correlate(x,y,mode='full') \n",
    "end_index = len(x)\n",
    "st_index = -len(y) + 1\n",
    "indices = np.arange(st_index, end_index)  \n",
    "print('Linear correlation of x and y:',corr_x_y)\n",
    "plt.figure(figsize = (10, 10))\n",
    "plt.stem(indices, corr_x_y)\n",
    "plt.xlabel(\"Index of correlation\")\n",
    "plt.ylabel(\"Correlation value\")\n",
    "\n"
   ]
  },
  {
   "cell_type": "markdown",
   "metadata": {},
   "source": [
    "### Part (e)\n",
    "\n",
    "We will now implement the strategy discussed in part (d) to the problem of searching for a small audio clip inside a song. Be sure to have song.wav and clip.wav in the same directory as the notebook.\n",
    "\n",
    "The song \"Mandelbrot Set\" by Jonathan Coulton is licensed under <a href=\"http://creativecommons.org/licenses/by-nc/3.0/\">CC BY-NC 3.0</a>\n",
    "\n",
    "If you have trouble playing the audio file in iPython, try opening it in a different browser. A problem was encountered with with Safari but Chrome worked."
   ]
  },
  {
   "cell_type": "code",
   "execution_count": null,
   "metadata": {},
   "outputs": [],
   "source": [
    "import numpy as np\n",
    "import wave\n",
    "import matplotlib.pyplot as plt\n",
    "import scipy.io.wavfile\n",
    "import operator\n",
    "import time\n",
    "from IPython.display import Audio\n",
    "%matplotlib inline\n",
    "\n",
    "given_file = 'song.wav'\n",
    "target_file = 'clip.wav'\n",
    "rate_given,  given_signal  = scipy.io.wavfile.read(given_file)\n",
    "rate_target, target_signal = scipy.io.wavfile.read(target_file)\n",
    "given_signal  = given_signal[:2000000].astype(float)\n",
    "target_signal = target_signal.astype(float)\n",
    "def play_clip(start, end, signal=given_signal):\n",
    "    scipy.io.wavfile.write('temp.wav', rate_given, signal[start:end].astype(np.int16))\n",
    "    return Audio(url='temp.wav', autoplay=True)\n",
    "\n",
    "def run_comparison(target_signal, given_signal, idxs=None):\n",
    "    # Run everything if not called with idxs set to something\n",
    "    if idxs is None:\n",
    "        idxs = [i for i in range(len(given_signal)-len(target_signal))]\n",
    "    return idxs, [vector_compare(target_signal, given_signal[i:i+len(target_signal)])\n",
    "                for i in idxs]\n",
    "\n",
    "play_clip(0, len(given_signal))"
   ]
  },
  {
   "cell_type": "markdown",
   "metadata": {},
   "source": [
    "We will load the song into the variable `given_signal` and load the short clip into the variable `target_signal`. Your job is to finish code that will identify the short clip's location in the song. The clip we are trying to find will play after executing the following block."
   ]
  },
  {
   "cell_type": "code",
   "execution_count": null,
   "metadata": {},
   "outputs": [],
   "source": [
    "Audio(url=target_file, autoplay=True)"
   ]
  },
  {
   "cell_type": "markdown",
   "metadata": {},
   "source": [
    "Your task is to define the function 'vector_compare' and run the following code. Because the song has a lot of data, you should use the provided examples from the previous parts of the problem before running the later code. Do you results here make sense given your answers to previous parts of the problem?"
   ]
  },
  {
   "cell_type": "code",
   "execution_count": null,
   "metadata": {},
   "outputs": [],
   "source": [
    "def vector_compare(short_clip, segment_of_song):\n",
    "    \"\"\"This function compares two vectors, returning a number.\n",
    "    The test vector with the highest return value is regarded as being closest to the desired vector.\"\"\"\n",
    "    return np.inner(short_clip, segment_of_song)/(np.linalg.norm(short_clip)*np.linalg.norm(segment_of_song)+1.e-10)\n",
    "\n",
    "print(\"Vector similarity for vectors from part A:\")\n",
    "print(vector_compare(np.array([1,1,1]), np.array([1,1,1])))\n",
    "print(vector_compare(np.array([1,1,1]), np.array([-1,-1,-1])))\n",
    "print(\"Vector similarity for vectors from part C:\")\n",
    "print(vector_compare(np.array([1,2,3]), np.array([1,2,3])))\n",
    "print(vector_compare(np.array([1,2,3]), np.array([2,3,4])))\n",
    "print(vector_compare(np.array([1,2,3]), np.array([3,4,5])))\n",
    "print(vector_compare(np.array([1,2,3]), np.array([4,5,6])))\n",
    "print(vector_compare(np.array([1,2,3]), np.array([5,6,7])))\n",
    "print(vector_compare(np.array([1,2,3]), np.array([6,7,8])))"
   ]
  },
  {
   "cell_type": "markdown",
   "metadata": {},
   "source": [
    "Run the following code that runs vector_compare on every subsequence in the song- it will probably take at least 5 minutes. How do you interpret this plot to find where the clip is in the song?"
   ]
  },
  {
   "cell_type": "code",
   "execution_count": null,
   "metadata": {},
   "outputs": [],
   "source": [
    "t0 = time.time()\n",
    "idxs, song_compare = run_comparison(target_signal, given_signal)\n",
    "t1 = time.time()\n",
    "plt.plot(idxs, song_compare)\n",
    "print (\"That took %(time).2f minutes to run\" % {'time':(t1-t0)/60.0} )"
   ]
  },
  {
   "cell_type": "markdown",
   "metadata": {},
   "source": [
    "The sharp negative spike at about the 1375000-th sample indicates that the sample occurs at about $\\frac{1375000}{2000000}45\\text{sec} \\approx 31\\text{sec}$ into the song."
   ]
  }
 ],
 "metadata": {
  "anaconda-cloud": {},
  "kernel_info": {
   "name": "python3"
  },
  "kernelspec": {
   "display_name": "Python 3",
   "language": "python",
   "name": "python3"
  },
  "language_info": {
   "codemirror_mode": {
    "name": "ipython",
    "version": 3
   },
   "file_extension": ".py",
   "mimetype": "text/x-python",
   "name": "python",
   "nbconvert_exporter": "python",
   "pygments_lexer": "ipython3",
   "version": "3.7.1"
  },
  "nteract": {
   "version": "0.12.3"
  }
 },
 "nbformat": 4,
 "nbformat_minor": 1
}
